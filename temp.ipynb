{
 "cells": [
  {
   "cell_type": "code",
   "execution_count": null,
   "id": "bec96984-3dcd-482d-a43d-7f3e41eae3e9",
   "metadata": {},
   "outputs": [],
   "source": [
    "import pandas as pd"
   ]
  },
  {
   "cell_type": "code",
   "execution_count": null,
   "id": "c5712a5d-756e-4cb4-a219-c983c8e01240",
   "metadata": {},
   "outputs": [],
   "source": [
    "covid19 = pd.read_csv(r\"C:\\Users\\JASNYP\\Desktop\\DATASETS\\owid-covid-data.csv\")"
   ]
  },
  {
   "cell_type": "code",
   "execution_count": null,
   "id": "aae209d2-1234-453e-bbf0-89ff2163dcfe",
   "metadata": {},
   "outputs": [],
   "source": [
    "covid19.shape"
   ]
  },
  {
   "cell_type": "code",
   "execution_count": null,
   "id": "3996072c-ca5b-46e7-a95f-c58f43402d6d",
   "metadata": {},
   "outputs": [],
   "source": [
    "covid19_deaths = covid19.iloc[:, 0:25].copy(deep = True)"
   ]
  },
  {
   "cell_type": "code",
   "execution_count": null,
   "id": "847be713-b486-45ea-a80a-d0c419d9d76d",
   "metadata": {},
   "outputs": [],
   "source": [
    "population = covid19.loc[:,'population']"
   ]
  },
  {
   "cell_type": "code",
   "execution_count": null,
   "id": "2b63adeb-c72c-4e9f-870f-e79bd5d181ed",
   "metadata": {},
   "outputs": [],
   "source": [
    "covid19_deaths.insert( 4,'population', population )"
   ]
  },
  {
   "cell_type": "code",
   "execution_count": null,
   "id": "035a8936-3d16-4810-8197-2ba97ddb9a54",
   "metadata": {},
   "outputs": [],
   "source": [
    "covid19_deaths.head()"
   ]
  },
  {
   "cell_type": "code",
   "execution_count": null,
   "id": "86297a0e-b1a7-4e35-82f8-4b9ebae3c085",
   "metadata": {},
   "outputs": [],
   "source": [
    "covid19_deaths.to_csv('covid19_deaths.csv')"
   ]
  },
  {
   "cell_type": "code",
   "execution_count": null,
   "id": "896293bf-1506-4b11-9a17-2479b0ae08aa",
   "metadata": {},
   "outputs": [],
   "source": [
    " covid19.columns()"
   ]
  },
  {
   "cell_type": "code",
   "execution_count": null,
   "id": "83c29d37-d43f-470c-a341-795ab91d50eb",
   "metadata": {},
   "outputs": [],
   "source": [
    "covid19.columns"
   ]
  },
  {
   "cell_type": "code",
   "execution_count": null,
   "id": "bfb8b06e-0c6d-41bb-8d18-b3998f11f383",
   "metadata": {},
   "outputs": [],
   "source": [
    "covid19_deaths.columns"
   ]
  },
  {
   "cell_type": "code",
   "execution_count": null,
   "id": "566c00b0-383e-43e2-8573-ac0e679d87d2",
   "metadata": {},
   "outputs": [],
   "source": [
    "tail = covid19.iloc[:, 26: ]"
   ]
  },
  {
   "cell_type": "code",
   "execution_count": null,
   "id": "49b236e5-2a58-4a10-975a-d45dc8839e91",
   "metadata": {},
   "outputs": [],
   "source": [
    "head =  covid19.iloc[:, 0:4]"
   ]
  },
  {
   "cell_type": "code",
   "execution_count": null,
   "id": "0ff8bc88-a6b2-4173-804a-7c111a47580d",
   "metadata": {},
   "outputs": [],
   "source": [
    "covid19_vaccinations = pd.concat([head, tail], axis=1)"
   ]
  },
  {
   "cell_type": "code",
   "execution_count": null,
   "id": "af3903ab-a294-4e92-b80c-d154f111ed7d",
   "metadata": {},
   "outputs": [],
   "source": [
    "covid19_vaccinations.to_csv('covid19_vaccinations.csv')"
   ]
  },
  {
   "cell_type": "code",
   "execution_count": null,
   "id": "c9e685f5-1198-46be-b492-fc4cee44a944",
   "metadata": {},
   "outputs": [],
   "source": [
    "covid19_vaccinations.tail()"
   ]
  }
 ],
 "metadata": {
  "kernelspec": {
   "display_name": "Python 3 (ipykernel)",
   "language": "python",
   "name": "python3"
  },
  "language_info": {
   "codemirror_mode": {
    "name": "ipython",
    "version": 3
   },
   "file_extension": ".py",
   "mimetype": "text/x-python",
   "name": "python",
   "nbconvert_exporter": "python",
   "pygments_lexer": "ipython3",
   "version": "3.10.7"
  }
 },
 "nbformat": 4,
 "nbformat_minor": 5
}
